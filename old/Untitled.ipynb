{
 "cells": [
  {
   "cell_type": "code",
   "execution_count": 39,
   "metadata": {},
   "outputs": [],
   "source": [
    "import pandas as pd\n",
    "import matplotlib.pyplot as plt\n",
    "import numpy as np\n",
    "from sklearn.cluster import KMeans, k_means, AgglomerativeClustering\n",
    "from sklearn.metrics import silhouette_score\n",
    "from sklearn.preprocessing import StandardScaler\n",
    "\n",
    "%matplotlib inline"
   ]
  },
  {
   "cell_type": "markdown",
   "metadata": {},
   "source": [
    "### Data Source : https://www.kaggle.com/martj42/international-football-results-from-1872-to-2017"
   ]
  },
  {
   "cell_type": "code",
   "execution_count": 40,
   "metadata": {},
   "outputs": [],
   "source": [
    "df = pd.read_csv('./results.csv')"
   ]
  },
  {
   "cell_type": "markdown",
   "metadata": {},
   "source": [
    "## EDA"
   ]
  },
  {
   "cell_type": "code",
   "execution_count": 41,
   "metadata": {},
   "outputs": [
    {
     "data": {
      "text/html": [
       "<div>\n",
       "<style scoped>\n",
       "    .dataframe tbody tr th:only-of-type {\n",
       "        vertical-align: middle;\n",
       "    }\n",
       "\n",
       "    .dataframe tbody tr th {\n",
       "        vertical-align: top;\n",
       "    }\n",
       "\n",
       "    .dataframe thead th {\n",
       "        text-align: right;\n",
       "    }\n",
       "</style>\n",
       "<table border=\"1\" class=\"dataframe\">\n",
       "  <thead>\n",
       "    <tr style=\"text-align: right;\">\n",
       "      <th></th>\n",
       "      <th>date</th>\n",
       "      <th>home_team</th>\n",
       "      <th>away_team</th>\n",
       "      <th>home_score</th>\n",
       "      <th>away_score</th>\n",
       "      <th>tournament</th>\n",
       "      <th>city</th>\n",
       "      <th>country</th>\n",
       "      <th>neutral</th>\n",
       "    </tr>\n",
       "  </thead>\n",
       "  <tbody>\n",
       "    <tr>\n",
       "      <th>0</th>\n",
       "      <td>1872-11-30</td>\n",
       "      <td>Scotland</td>\n",
       "      <td>England</td>\n",
       "      <td>0</td>\n",
       "      <td>0</td>\n",
       "      <td>Friendly</td>\n",
       "      <td>Glasgow</td>\n",
       "      <td>Scotland</td>\n",
       "      <td>False</td>\n",
       "    </tr>\n",
       "    <tr>\n",
       "      <th>1</th>\n",
       "      <td>1873-03-08</td>\n",
       "      <td>England</td>\n",
       "      <td>Scotland</td>\n",
       "      <td>4</td>\n",
       "      <td>2</td>\n",
       "      <td>Friendly</td>\n",
       "      <td>London</td>\n",
       "      <td>England</td>\n",
       "      <td>False</td>\n",
       "    </tr>\n",
       "  </tbody>\n",
       "</table>\n",
       "</div>"
      ],
      "text/plain": [
       "         date home_team away_team  home_score  away_score tournament     city  \\\n",
       "0  1872-11-30  Scotland   England           0           0   Friendly  Glasgow   \n",
       "1  1873-03-08   England  Scotland           4           2   Friendly   London   \n",
       "\n",
       "    country  neutral  \n",
       "0  Scotland    False  \n",
       "1   England    False  "
      ]
     },
     "execution_count": 41,
     "metadata": {},
     "output_type": "execute_result"
    }
   ],
   "source": [
    "df.head(2)"
   ]
  },
  {
   "cell_type": "code",
   "execution_count": 42,
   "metadata": {},
   "outputs": [
    {
     "data": {
      "text/plain": [
       "date          0\n",
       "home_team     0\n",
       "away_team     0\n",
       "home_score    0\n",
       "away_score    0\n",
       "tournament    0\n",
       "city          0\n",
       "country       0\n",
       "neutral       0\n",
       "dtype: int64"
      ]
     },
     "execution_count": 42,
     "metadata": {},
     "output_type": "execute_result"
    }
   ],
   "source": [
    "df.isnull().sum()"
   ]
  },
  {
   "cell_type": "code",
   "execution_count": 43,
   "metadata": {
    "scrolled": true
   },
   "outputs": [
    {
     "data": {
      "text/plain": [
       "Friendly                                16481\n",
       "FIFA World Cup qualification             7100\n",
       "UEFA Euro qualification                  2332\n",
       "African Cup of Nations qualification     1558\n",
       "FIFA World Cup                            840\n",
       "Copa América                              787\n",
       "AFC Asian Cup qualification               724\n",
       "African Cup of Nations                    638\n",
       "CECAFA Cup                                620\n",
       "CFU Caribbean Cup qualification           606\n",
       "Name: tournament, dtype: int64"
      ]
     },
     "execution_count": 43,
     "metadata": {},
     "output_type": "execute_result"
    }
   ],
   "source": [
    "## Types of tournament\n",
    "df['tournament'].value_counts()[0:10]"
   ]
  },
  {
   "cell_type": "code",
   "execution_count": 44,
   "metadata": {},
   "outputs": [
    {
     "name": "stdout",
     "output_type": "stream",
     "text": [
      "There are  95 types of tournament\n"
     ]
    }
   ],
   "source": [
    "print(\"There are \", len(df['tournament'].unique()), \"types of tournament\")"
   ]
  },
  {
   "cell_type": "markdown",
   "metadata": {},
   "source": [
    "## Will focus only on friendly, FIFA world Cup, and FIFA world qualification games"
   ]
  },
  {
   "cell_type": "code",
   "execution_count": 45,
   "metadata": {},
   "outputs": [],
   "source": [
    "# Creating new DF\n",
    "# tournaments =  ['FIFA World Cup','FIFA World Cup qualification','Friendly']\n",
    "# df = df[df['tournament'].isin(tournaments)]"
   ]
  },
  {
   "cell_type": "code",
   "execution_count": 46,
   "metadata": {},
   "outputs": [
    {
     "name": "stdout",
     "output_type": "stream",
     "text": [
      "min data 1872-11-30\n",
      "max data 2018-06-15\n",
      "Unique Home Teams 241\n",
      "Unique Away Teams 242\n",
      "# of Matchess 39054\n"
     ]
    }
   ],
   "source": [
    "# information about new nf\n",
    "\n",
    "# Min and max datas \n",
    "print(\"min data\", df['date'].min())\n",
    "print(\"max data\", df['date'].max())\n",
    "\n",
    "#Unique Home Teams\n",
    "print(\"Unique Home Teams\",len(df['home_team'].unique()))\n",
    "print(\"Unique Away Teams\",len(df['away_team'].unique()))\n",
    "\n",
    "# Matches\n",
    "print(\"# of Matchess\",df.shape[0])\n"
   ]
  },
  {
   "cell_type": "markdown",
   "metadata": {},
   "source": [
    "### Creating Features"
   ]
  },
  {
   "cell_type": "code",
   "execution_count": 47,
   "metadata": {},
   "outputs": [],
   "source": [
    "# Column [result] = 1 if home team wins, -1 if losses and 0 if tie.\n",
    "dif = df['home_score'] - df['away_score']\n",
    "dif = dif.map(lambda x: 1 if x>0 else 0 if x ==0 else -1)\n",
    "df['result'] = dif"
   ]
  },
  {
   "cell_type": "code",
   "execution_count": 48,
   "metadata": {},
   "outputs": [],
   "source": [
    "df.replace([False,True],[0,1],inplace=True)"
   ]
  },
  {
   "cell_type": "code",
   "execution_count": 49,
   "metadata": {
    "scrolled": true
   },
   "outputs": [
    {
     "data": {
      "text/html": [
       "<div>\n",
       "<style scoped>\n",
       "    .dataframe tbody tr th:only-of-type {\n",
       "        vertical-align: middle;\n",
       "    }\n",
       "\n",
       "    .dataframe tbody tr th {\n",
       "        vertical-align: top;\n",
       "    }\n",
       "\n",
       "    .dataframe thead th {\n",
       "        text-align: right;\n",
       "    }\n",
       "</style>\n",
       "<table border=\"1\" class=\"dataframe\">\n",
       "  <thead>\n",
       "    <tr style=\"text-align: right;\">\n",
       "      <th></th>\n",
       "      <th>date</th>\n",
       "      <th>home_team</th>\n",
       "      <th>away_team</th>\n",
       "      <th>home_score</th>\n",
       "      <th>away_score</th>\n",
       "      <th>tournament</th>\n",
       "      <th>city</th>\n",
       "      <th>country</th>\n",
       "      <th>neutral</th>\n",
       "      <th>result</th>\n",
       "    </tr>\n",
       "  </thead>\n",
       "  <tbody>\n",
       "    <tr>\n",
       "      <th>0</th>\n",
       "      <td>1872-11-30</td>\n",
       "      <td>Scotland</td>\n",
       "      <td>England</td>\n",
       "      <td>0</td>\n",
       "      <td>0</td>\n",
       "      <td>Friendly</td>\n",
       "      <td>Glasgow</td>\n",
       "      <td>Scotland</td>\n",
       "      <td>0</td>\n",
       "      <td>0</td>\n",
       "    </tr>\n",
       "    <tr>\n",
       "      <th>1</th>\n",
       "      <td>1873-03-08</td>\n",
       "      <td>England</td>\n",
       "      <td>Scotland</td>\n",
       "      <td>4</td>\n",
       "      <td>2</td>\n",
       "      <td>Friendly</td>\n",
       "      <td>London</td>\n",
       "      <td>England</td>\n",
       "      <td>0</td>\n",
       "      <td>1</td>\n",
       "    </tr>\n",
       "    <tr>\n",
       "      <th>2</th>\n",
       "      <td>1874-03-07</td>\n",
       "      <td>Scotland</td>\n",
       "      <td>England</td>\n",
       "      <td>2</td>\n",
       "      <td>1</td>\n",
       "      <td>Friendly</td>\n",
       "      <td>Glasgow</td>\n",
       "      <td>Scotland</td>\n",
       "      <td>0</td>\n",
       "      <td>1</td>\n",
       "    </tr>\n",
       "    <tr>\n",
       "      <th>3</th>\n",
       "      <td>1875-03-06</td>\n",
       "      <td>England</td>\n",
       "      <td>Scotland</td>\n",
       "      <td>2</td>\n",
       "      <td>2</td>\n",
       "      <td>Friendly</td>\n",
       "      <td>London</td>\n",
       "      <td>England</td>\n",
       "      <td>0</td>\n",
       "      <td>0</td>\n",
       "    </tr>\n",
       "    <tr>\n",
       "      <th>4</th>\n",
       "      <td>1876-03-04</td>\n",
       "      <td>Scotland</td>\n",
       "      <td>England</td>\n",
       "      <td>3</td>\n",
       "      <td>0</td>\n",
       "      <td>Friendly</td>\n",
       "      <td>Glasgow</td>\n",
       "      <td>Scotland</td>\n",
       "      <td>0</td>\n",
       "      <td>1</td>\n",
       "    </tr>\n",
       "  </tbody>\n",
       "</table>\n",
       "</div>"
      ],
      "text/plain": [
       "         date home_team away_team  home_score  away_score tournament     city  \\\n",
       "0  1872-11-30  Scotland   England           0           0   Friendly  Glasgow   \n",
       "1  1873-03-08   England  Scotland           4           2   Friendly   London   \n",
       "2  1874-03-07  Scotland   England           2           1   Friendly  Glasgow   \n",
       "3  1875-03-06   England  Scotland           2           2   Friendly   London   \n",
       "4  1876-03-04  Scotland   England           3           0   Friendly  Glasgow   \n",
       "\n",
       "    country  neutral  result  \n",
       "0  Scotland        0       0  \n",
       "1   England        0       1  \n",
       "2  Scotland        0       1  \n",
       "3   England        0       0  \n",
       "4  Scotland        0       1  "
      ]
     },
     "execution_count": 49,
     "metadata": {},
     "output_type": "execute_result"
    }
   ],
   "source": [
    "df.head()"
   ]
  },
  {
   "cell_type": "code",
   "execution_count": 50,
   "metadata": {},
   "outputs": [],
   "source": [
    "teams = np.unique(np.append(df['home_team'].unique(),df['away_team'].unique()))"
   ]
  },
  {
   "cell_type": "code",
   "execution_count": 51,
   "metadata": {},
   "outputs": [],
   "source": [
    "# teams_df = df[]\n",
    "df_teams = pd.DataFrame(teams,columns=['team'])"
   ]
  },
  {
   "cell_type": "code",
   "execution_count": 52,
   "metadata": {},
   "outputs": [
    {
     "data": {
      "text/plain": [
       "104"
      ]
     },
     "execution_count": 52,
     "metadata": {},
     "output_type": "execute_result"
    }
   ],
   "source": [
    "# df[df['home_team'] == 'Albania'].shape[0]\n",
    "df_world_cup = df[df['tournament']=='FIFA World Cup']\n",
    "\n",
    "df_world_cup[(df_world_cup['home_team'] == 'Brazil') | (df_world_cup['away_team'] == 'Brazil')].shape[0]\n",
    "  \n"
   ]
  },
  {
   "cell_type": "markdown",
   "metadata": {},
   "source": [
    "#### Home"
   ]
  },
  {
   "cell_type": "code",
   "execution_count": 53,
   "metadata": {},
   "outputs": [],
   "source": [
    "# plays\n",
    "df_teams['home_games'] = [df[df['home_team'] == team].shape[0] for team in df_teams['team']]\n",
    "\n",
    "# # wins losses and ties\n",
    "df_teams['home_wins'] = [df[(df['home_team'] == team) & (df['result']==1)].shape[0] for team in df_teams['team']]\n",
    "df_teams['home_tie'] = [df[(df['home_team'] == team) & (df['result']==0)].shape[0] for team in df_teams['team']]\n",
    "df_teams['home_loss'] = [df[(df['home_team'] == team) & (df['result']==-1)].shape[0] for team in df_teams['team']]\n",
    "\n",
    "# # home win, tie, loss %\n",
    "df_teams['home_wins_pct'] = df_teams['home_wins']/df_teams['home_games']\n",
    "df_teams['home_tie_pct'] = df_teams['home_tie']/df_teams['home_games']\n",
    "df_teams['home_loss_pct'] = df_teams['home_loss']/df_teams['home_games']"
   ]
  },
  {
   "cell_type": "markdown",
   "metadata": {},
   "source": [
    "#### Away"
   ]
  },
  {
   "cell_type": "code",
   "execution_count": 54,
   "metadata": {},
   "outputs": [],
   "source": [
    "# plays\n",
    "df_teams['away_games'] = [df[df['away_team'] == team].shape[0] for team in df_teams['team']]\n",
    "\n",
    "# Wins losses and ties\n",
    "df_teams['away_wins'] = [df[(df['away_team'] == team) & (df['result']==-1)].shape[0] for team in df_teams['team']]\n",
    "df_teams['away_tie'] = [df[(df['away_team'] == team) & (df['result']==0)].shape[0] for team in df_teams['team']]\n",
    "df_teams['away_loss'] = [df[(df['away_team'] == team) & (df['result']==1)].shape[0] for team in df_teams['team']]\n",
    "\n",
    "# # away win, tie, loss %\n",
    "df_teams['away_wins_pct'] = df_teams['away_wins'] / df_teams['away_games']\n",
    "df_teams['away_tie_pct'] = df_teams['away_tie'] / df_teams['away_games']\n",
    "df_teams['away_loss_pct'] = df_teams['away_loss'] / df_teams['away_games']"
   ]
  },
  {
   "cell_type": "markdown",
   "metadata": {},
   "source": [
    "### World Cup Features\n",
    "- I will consider that all world cup games are neurtral field (actually they are not)"
   ]
  },
  {
   "cell_type": "code",
   "execution_count": 55,
   "metadata": {},
   "outputs": [],
   "source": [
    "\n",
    "df_teams['world_cup_games'] = [df_world_cup[(df_world_cup['home_team'] == team) \n",
    "                                           | (df_world_cup['away_team'] == team)]\\\n",
    "                                            .shape[0] for \n",
    "                            team in df_teams['team']]\n",
    "\n",
    "df_teams['world_cup_wins'] = [df_world_cup[((df_world_cup['home_team'] == team) \n",
    "                            & (df_world_cup['result'] == 1))].shape[0] +\n",
    "                              df_world_cup[((df_world_cup['away_team'] == team) \n",
    "                            & (df_world_cup['result'] == -1))].shape[0] for \n",
    "                            team in df_teams['team']]\n",
    "\n",
    "df_teams['world_cup_ties'] = [df_world_cup[((df_world_cup['home_team'] == team) \n",
    "                            & (df_world_cup['result'] == 0))].shape[0] +\n",
    "                              df_world_cup[((df_world_cup['away_team'] == team) \n",
    "                            & (df_world_cup['result'] == 0))].shape[0] for \n",
    "                            team in df_teams['team']]\n",
    "\n",
    "df_teams['world_cup_losses'] = [df_world_cup[((df_world_cup['home_team'] == team) \n",
    "                            & (df_world_cup['result'] == -1))].shape[0] +\n",
    "                              df_world_cup[((df_world_cup['away_team'] == team) \n",
    "                            & (df_world_cup['result'] == 1))].shape[0] for \n",
    "                            team in df_teams['team']]\n"
   ]
  },
  {
   "cell_type": "code",
   "execution_count": 56,
   "metadata": {},
   "outputs": [],
   "source": [
    "df_teams['world_cup_win_pct'] = df_teams['world_cup_wins'] / df_teams['world_cup_games']\n",
    "df_teams['world_cup_tie_pct'] = df_teams['world_cup_ties'] / df_teams['world_cup_games']\n",
    "df_teams['world_cup_loss_pct'] = df_teams['world_cup_losses'] / df_teams['world_cup_games']"
   ]
  },
  {
   "cell_type": "markdown",
   "metadata": {},
   "source": [
    "###  More Data Cleaning"
   ]
  },
  {
   "cell_type": "code",
   "execution_count": 57,
   "metadata": {},
   "outputs": [
    {
     "name": "stdout",
     "output_type": "stream",
     "text": [
      "<class 'pandas.core.frame.DataFrame'>\n",
      "RangeIndex: 244 entries, 0 to 243\n",
      "Data columns (total 22 columns):\n",
      "team                  244 non-null object\n",
      "home_games            244 non-null int64\n",
      "home_wins             244 non-null int64\n",
      "home_tie              244 non-null int64\n",
      "home_loss             244 non-null int64\n",
      "home_wins_pct         241 non-null float64\n",
      "home_tie_pct          241 non-null float64\n",
      "home_loss_pct         241 non-null float64\n",
      "away_games            244 non-null int64\n",
      "away_wins             244 non-null int64\n",
      "away_tie              244 non-null int64\n",
      "away_loss             244 non-null int64\n",
      "away_wins_pct         242 non-null float64\n",
      "away_tie_pct          242 non-null float64\n",
      "away_loss_pct         242 non-null float64\n",
      "world_cup_games       244 non-null int64\n",
      "world_cup_wins        244 non-null int64\n",
      "world_cup_ties        244 non-null int64\n",
      "world_cup_losses      244 non-null int64\n",
      "world_cup_win_pct     79 non-null float64\n",
      "world_cup_tie_pct     79 non-null float64\n",
      "world_cup_loss_pct    79 non-null float64\n",
      "dtypes: float64(9), int64(12), object(1)\n",
      "memory usage: 42.0+ KB\n"
     ]
    }
   ],
   "source": [
    "## Checking for nulls\n",
    "df_teams.info()"
   ]
  },
  {
   "cell_type": "markdown",
   "metadata": {},
   "source": [
    "#### There are 3 teams with either 0 home games or 0 away games"
   ]
  },
  {
   "cell_type": "code",
   "execution_count": 58,
   "metadata": {},
   "outputs": [
    {
     "data": {
      "text/html": [
       "<div>\n",
       "<style scoped>\n",
       "    .dataframe tbody tr th:only-of-type {\n",
       "        vertical-align: middle;\n",
       "    }\n",
       "\n",
       "    .dataframe tbody tr th {\n",
       "        vertical-align: top;\n",
       "    }\n",
       "\n",
       "    .dataframe thead th {\n",
       "        text-align: right;\n",
       "    }\n",
       "</style>\n",
       "<table border=\"1\" class=\"dataframe\">\n",
       "  <thead>\n",
       "    <tr style=\"text-align: right;\">\n",
       "      <th></th>\n",
       "      <th>team</th>\n",
       "      <th>home_games</th>\n",
       "      <th>home_wins</th>\n",
       "      <th>home_tie</th>\n",
       "      <th>home_loss</th>\n",
       "      <th>home_wins_pct</th>\n",
       "      <th>home_tie_pct</th>\n",
       "      <th>home_loss_pct</th>\n",
       "      <th>away_games</th>\n",
       "      <th>away_wins</th>\n",
       "      <th>...</th>\n",
       "      <th>away_wins_pct</th>\n",
       "      <th>away_tie_pct</th>\n",
       "      <th>away_loss_pct</th>\n",
       "      <th>world_cup_games</th>\n",
       "      <th>world_cup_wins</th>\n",
       "      <th>world_cup_ties</th>\n",
       "      <th>world_cup_losses</th>\n",
       "      <th>world_cup_win_pct</th>\n",
       "      <th>world_cup_tie_pct</th>\n",
       "      <th>world_cup_loss_pct</th>\n",
       "    </tr>\n",
       "  </thead>\n",
       "  <tbody>\n",
       "    <tr>\n",
       "      <th>214</th>\n",
       "      <td>Tibet</td>\n",
       "      <td>0</td>\n",
       "      <td>0</td>\n",
       "      <td>0</td>\n",
       "      <td>0</td>\n",
       "      <td>NaN</td>\n",
       "      <td>NaN</td>\n",
       "      <td>NaN</td>\n",
       "      <td>6</td>\n",
       "      <td>0</td>\n",
       "      <td>...</td>\n",
       "      <td>0.000000</td>\n",
       "      <td>0.000000</td>\n",
       "      <td>1.000000</td>\n",
       "      <td>0</td>\n",
       "      <td>0</td>\n",
       "      <td>0</td>\n",
       "      <td>0</td>\n",
       "      <td>NaN</td>\n",
       "      <td>NaN</td>\n",
       "      <td>NaN</td>\n",
       "    </tr>\n",
       "    <tr>\n",
       "      <th>230</th>\n",
       "      <td>Vatican</td>\n",
       "      <td>0</td>\n",
       "      <td>0</td>\n",
       "      <td>0</td>\n",
       "      <td>0</td>\n",
       "      <td>NaN</td>\n",
       "      <td>NaN</td>\n",
       "      <td>NaN</td>\n",
       "      <td>3</td>\n",
       "      <td>0</td>\n",
       "      <td>...</td>\n",
       "      <td>0.000000</td>\n",
       "      <td>0.333333</td>\n",
       "      <td>0.666667</td>\n",
       "      <td>0</td>\n",
       "      <td>0</td>\n",
       "      <td>0</td>\n",
       "      <td>0</td>\n",
       "      <td>NaN</td>\n",
       "      <td>NaN</td>\n",
       "      <td>NaN</td>\n",
       "    </tr>\n",
       "    <tr>\n",
       "      <th>237</th>\n",
       "      <td>Western Australia</td>\n",
       "      <td>0</td>\n",
       "      <td>0</td>\n",
       "      <td>0</td>\n",
       "      <td>0</td>\n",
       "      <td>NaN</td>\n",
       "      <td>NaN</td>\n",
       "      <td>NaN</td>\n",
       "      <td>29</td>\n",
       "      <td>9</td>\n",
       "      <td>...</td>\n",
       "      <td>0.310345</td>\n",
       "      <td>0.103448</td>\n",
       "      <td>0.586207</td>\n",
       "      <td>0</td>\n",
       "      <td>0</td>\n",
       "      <td>0</td>\n",
       "      <td>0</td>\n",
       "      <td>NaN</td>\n",
       "      <td>NaN</td>\n",
       "      <td>NaN</td>\n",
       "    </tr>\n",
       "  </tbody>\n",
       "</table>\n",
       "<p>3 rows × 22 columns</p>\n",
       "</div>"
      ],
      "text/plain": [
       "                  team  home_games  home_wins  home_tie  home_loss  \\\n",
       "214              Tibet           0          0         0          0   \n",
       "230            Vatican           0          0         0          0   \n",
       "237  Western Australia           0          0         0          0   \n",
       "\n",
       "     home_wins_pct  home_tie_pct  home_loss_pct  away_games  away_wins  \\\n",
       "214            NaN           NaN            NaN           6          0   \n",
       "230            NaN           NaN            NaN           3          0   \n",
       "237            NaN           NaN            NaN          29          9   \n",
       "\n",
       "            ...          away_wins_pct  away_tie_pct  away_loss_pct  \\\n",
       "214         ...               0.000000      0.000000       1.000000   \n",
       "230         ...               0.000000      0.333333       0.666667   \n",
       "237         ...               0.310345      0.103448       0.586207   \n",
       "\n",
       "     world_cup_games  world_cup_wins  world_cup_ties  world_cup_losses  \\\n",
       "214                0               0               0                 0   \n",
       "230                0               0               0                 0   \n",
       "237                0               0               0                 0   \n",
       "\n",
       "     world_cup_win_pct  world_cup_tie_pct  world_cup_loss_pct  \n",
       "214                NaN                NaN                 NaN  \n",
       "230                NaN                NaN                 NaN  \n",
       "237                NaN                NaN                 NaN  \n",
       "\n",
       "[3 rows x 22 columns]"
      ]
     },
     "metadata": {},
     "output_type": "display_data"
    },
    {
     "data": {
      "text/html": [
       "<div>\n",
       "<style scoped>\n",
       "    .dataframe tbody tr th:only-of-type {\n",
       "        vertical-align: middle;\n",
       "    }\n",
       "\n",
       "    .dataframe tbody tr th {\n",
       "        vertical-align: top;\n",
       "    }\n",
       "\n",
       "    .dataframe thead th {\n",
       "        text-align: right;\n",
       "    }\n",
       "</style>\n",
       "<table border=\"1\" class=\"dataframe\">\n",
       "  <thead>\n",
       "    <tr style=\"text-align: right;\">\n",
       "      <th></th>\n",
       "      <th>team</th>\n",
       "      <th>home_games</th>\n",
       "      <th>home_wins</th>\n",
       "      <th>home_tie</th>\n",
       "      <th>home_loss</th>\n",
       "      <th>home_wins_pct</th>\n",
       "      <th>home_tie_pct</th>\n",
       "      <th>home_loss_pct</th>\n",
       "      <th>away_games</th>\n",
       "      <th>away_wins</th>\n",
       "      <th>...</th>\n",
       "      <th>away_wins_pct</th>\n",
       "      <th>away_tie_pct</th>\n",
       "      <th>away_loss_pct</th>\n",
       "      <th>world_cup_games</th>\n",
       "      <th>world_cup_wins</th>\n",
       "      <th>world_cup_ties</th>\n",
       "      <th>world_cup_losses</th>\n",
       "      <th>world_cup_win_pct</th>\n",
       "      <th>world_cup_tie_pct</th>\n",
       "      <th>world_cup_loss_pct</th>\n",
       "    </tr>\n",
       "  </thead>\n",
       "  <tbody>\n",
       "    <tr>\n",
       "      <th>155</th>\n",
       "      <td>Niue</td>\n",
       "      <td>2</td>\n",
       "      <td>0</td>\n",
       "      <td>0</td>\n",
       "      <td>2</td>\n",
       "      <td>0.0</td>\n",
       "      <td>0.0</td>\n",
       "      <td>1.0</td>\n",
       "      <td>0</td>\n",
       "      <td>0</td>\n",
       "      <td>...</td>\n",
       "      <td>NaN</td>\n",
       "      <td>NaN</td>\n",
       "      <td>NaN</td>\n",
       "      <td>0</td>\n",
       "      <td>0</td>\n",
       "      <td>0</td>\n",
       "      <td>0</td>\n",
       "      <td>NaN</td>\n",
       "      <td>NaN</td>\n",
       "      <td>NaN</td>\n",
       "    </tr>\n",
       "    <tr>\n",
       "      <th>163</th>\n",
       "      <td>Palau</td>\n",
       "      <td>2</td>\n",
       "      <td>0</td>\n",
       "      <td>0</td>\n",
       "      <td>2</td>\n",
       "      <td>0.0</td>\n",
       "      <td>0.0</td>\n",
       "      <td>1.0</td>\n",
       "      <td>0</td>\n",
       "      <td>0</td>\n",
       "      <td>...</td>\n",
       "      <td>NaN</td>\n",
       "      <td>NaN</td>\n",
       "      <td>NaN</td>\n",
       "      <td>0</td>\n",
       "      <td>0</td>\n",
       "      <td>0</td>\n",
       "      <td>0</td>\n",
       "      <td>NaN</td>\n",
       "      <td>NaN</td>\n",
       "      <td>NaN</td>\n",
       "    </tr>\n",
       "  </tbody>\n",
       "</table>\n",
       "<p>2 rows × 22 columns</p>\n",
       "</div>"
      ],
      "text/plain": [
       "      team  home_games  home_wins  home_tie  home_loss  home_wins_pct  \\\n",
       "155   Niue           2          0         0          2            0.0   \n",
       "163  Palau           2          0         0          2            0.0   \n",
       "\n",
       "     home_tie_pct  home_loss_pct  away_games  away_wins         ...          \\\n",
       "155           0.0            1.0           0          0         ...           \n",
       "163           0.0            1.0           0          0         ...           \n",
       "\n",
       "     away_wins_pct  away_tie_pct  away_loss_pct  world_cup_games  \\\n",
       "155            NaN           NaN            NaN                0   \n",
       "163            NaN           NaN            NaN                0   \n",
       "\n",
       "     world_cup_wins  world_cup_ties  world_cup_losses  world_cup_win_pct  \\\n",
       "155               0               0                 0                NaN   \n",
       "163               0               0                 0                NaN   \n",
       "\n",
       "     world_cup_tie_pct  world_cup_loss_pct  \n",
       "155                NaN                 NaN  \n",
       "163                NaN                 NaN  \n",
       "\n",
       "[2 rows x 22 columns]"
      ]
     },
     "metadata": {},
     "output_type": "display_data"
    }
   ],
   "source": [
    "display(df_teams[df_teams['home_games']==0])\n",
    "display(df_teams[df_teams['away_games']==0])"
   ]
  },
  {
   "cell_type": "markdown",
   "metadata": {},
   "source": [
    "#### Only 79 teams have been to the world cup."
   ]
  },
  {
   "cell_type": "code",
   "execution_count": 59,
   "metadata": {},
   "outputs": [
    {
     "data": {
      "text/plain": [
       "(79, 22)"
      ]
     },
     "execution_count": 59,
     "metadata": {},
     "output_type": "execute_result"
    }
   ],
   "source": [
    "# Using only wold cup games:\n",
    "df_teams_world_cup = df_teams[df_teams['world_cup_games']>0]\n",
    "df_teams_world_cup.shape"
   ]
  },
  {
   "cell_type": "markdown",
   "metadata": {},
   "source": [
    "## Top 15 biggest World Cup winning pct"
   ]
  },
  {
   "cell_type": "code",
   "execution_count": 60,
   "metadata": {},
   "outputs": [],
   "source": [
    "df_teams.sort_values(['world_cup_win_pct'],\n",
    "                     ascending=False)[['team','world_cup_win_pct','world_cup_games'\n",
    "                     ,'world_cup_wins']].head(15)\n",
    "\n",
    "df_teams.sort_values(['world_cup_win_pct'],\n",
    "                     ascending=False)[['team','world_cup_win_pct','world_cup_games'\n",
    "                     ,'world_cup_wins']].to_csv('./top_15_winning.csv',index=False)"
   ]
  },
  {
   "cell_type": "markdown",
   "metadata": {},
   "source": [
    "## Top 15 World Cup tie pct"
   ]
  },
  {
   "cell_type": "code",
   "execution_count": 61,
   "metadata": {},
   "outputs": [],
   "source": [
    "df_teams.sort_values(['world_cup_tie_pct'],\n",
    "                     ascending=False)[['team','world_cup_tie_pct','world_cup_games'\n",
    "                     ,'world_cup_ties']].head(15)\n",
    "\n",
    "df_teams.sort_values(['world_cup_tie_pct'],\n",
    "                     ascending=False)[['team','world_cup_tie_pct','world_cup_games'\n",
    "                     ,'world_cup_ties']].to_csv('./tie_pct.csv',index=False)"
   ]
  },
  {
   "cell_type": "markdown",
   "metadata": {},
   "source": [
    "## Top 15 world cup loss pct"
   ]
  },
  {
   "cell_type": "code",
   "execution_count": 62,
   "metadata": {},
   "outputs": [],
   "source": [
    "df_teams.sort_values(['world_cup_loss_pct'],\n",
    "                     ascending=False)[['team' ,'world_cup_loss_pct'\n",
    "                     ,'world_cup_games','world_cup_losses']].head(15)\n",
    "\n",
    "df_teams.sort_values(['world_cup_loss_pct'],\n",
    "                     ascending=False)[['team','world_cup_loss_pct','world_cup_games'\n",
    "                     ,'world_cup_losses']].to_csv('./top_15_loss.csv',index=False)"
   ]
  },
  {
   "cell_type": "code",
   "execution_count": 63,
   "metadata": {},
   "outputs": [
    {
     "data": {
      "text/html": [
       "<div>\n",
       "<style scoped>\n",
       "    .dataframe tbody tr th:only-of-type {\n",
       "        vertical-align: middle;\n",
       "    }\n",
       "\n",
       "    .dataframe tbody tr th {\n",
       "        vertical-align: top;\n",
       "    }\n",
       "\n",
       "    .dataframe thead th {\n",
       "        text-align: right;\n",
       "    }\n",
       "</style>\n",
       "<table border=\"1\" class=\"dataframe\">\n",
       "  <thead>\n",
       "    <tr style=\"text-align: right;\">\n",
       "      <th></th>\n",
       "      <th>team</th>\n",
       "      <th>home_games</th>\n",
       "      <th>home_wins</th>\n",
       "      <th>home_tie</th>\n",
       "      <th>home_loss</th>\n",
       "      <th>home_wins_pct</th>\n",
       "      <th>home_tie_pct</th>\n",
       "      <th>home_loss_pct</th>\n",
       "      <th>away_games</th>\n",
       "      <th>away_wins</th>\n",
       "      <th>...</th>\n",
       "      <th>away_wins_pct</th>\n",
       "      <th>away_tie_pct</th>\n",
       "      <th>away_loss_pct</th>\n",
       "      <th>world_cup_games</th>\n",
       "      <th>world_cup_wins</th>\n",
       "      <th>world_cup_ties</th>\n",
       "      <th>world_cup_losses</th>\n",
       "      <th>world_cup_win_pct</th>\n",
       "      <th>world_cup_tie_pct</th>\n",
       "      <th>world_cup_loss_pct</th>\n",
       "    </tr>\n",
       "  </thead>\n",
       "  <tbody>\n",
       "    <tr>\n",
       "      <th>77</th>\n",
       "      <td>German DR</td>\n",
       "      <td>132</td>\n",
       "      <td>77</td>\n",
       "      <td>30</td>\n",
       "      <td>25</td>\n",
       "      <td>0.583333</td>\n",
       "      <td>0.227273</td>\n",
       "      <td>0.189394</td>\n",
       "      <td>166</td>\n",
       "      <td>63</td>\n",
       "      <td>...</td>\n",
       "      <td>0.379518</td>\n",
       "      <td>0.216867</td>\n",
       "      <td>0.403614</td>\n",
       "      <td>6</td>\n",
       "      <td>2</td>\n",
       "      <td>2</td>\n",
       "      <td>2</td>\n",
       "      <td>0.333333</td>\n",
       "      <td>0.333333</td>\n",
       "      <td>0.333333</td>\n",
       "    </tr>\n",
       "    <tr>\n",
       "      <th>78</th>\n",
       "      <td>Germany</td>\n",
       "      <td>493</td>\n",
       "      <td>311</td>\n",
       "      <td>102</td>\n",
       "      <td>80</td>\n",
       "      <td>0.630832</td>\n",
       "      <td>0.206897</td>\n",
       "      <td>0.162272</td>\n",
       "      <td>437</td>\n",
       "      <td>234</td>\n",
       "      <td>...</td>\n",
       "      <td>0.535469</td>\n",
       "      <td>0.203661</td>\n",
       "      <td>0.260870</td>\n",
       "      <td>106</td>\n",
       "      <td>66</td>\n",
       "      <td>20</td>\n",
       "      <td>20</td>\n",
       "      <td>0.622642</td>\n",
       "      <td>0.188679</td>\n",
       "      <td>0.188679</td>\n",
       "    </tr>\n",
       "  </tbody>\n",
       "</table>\n",
       "<p>2 rows × 22 columns</p>\n",
       "</div>"
      ],
      "text/plain": [
       "         team  home_games  home_wins  home_tie  home_loss  home_wins_pct  \\\n",
       "77  German DR         132         77        30         25       0.583333   \n",
       "78    Germany         493        311       102         80       0.630832   \n",
       "\n",
       "    home_tie_pct  home_loss_pct  away_games  away_wins         ...          \\\n",
       "77      0.227273       0.189394         166         63         ...           \n",
       "78      0.206897       0.162272         437        234         ...           \n",
       "\n",
       "    away_wins_pct  away_tie_pct  away_loss_pct  world_cup_games  \\\n",
       "77       0.379518      0.216867       0.403614                6   \n",
       "78       0.535469      0.203661       0.260870              106   \n",
       "\n",
       "    world_cup_wins  world_cup_ties  world_cup_losses  world_cup_win_pct  \\\n",
       "77               2               2                 2           0.333333   \n",
       "78              66              20                20           0.622642   \n",
       "\n",
       "    world_cup_tie_pct  world_cup_loss_pct  \n",
       "77           0.333333            0.333333  \n",
       "78           0.188679            0.188679  \n",
       "\n",
       "[2 rows x 22 columns]"
      ]
     },
     "execution_count": 63,
     "metadata": {},
     "output_type": "execute_result"
    }
   ],
   "source": [
    "## Analizing countries with name changes ['Ireland','Germany'...]\n",
    "a = [team for team in df_teams['team'] if 'Germ' in team]\n",
    "df_teams[(df_teams['team']==a[0]) | (df_teams['team']==a[1]) ]"
   ]
  },
  {
   "cell_type": "markdown",
   "metadata": {},
   "source": [
    "### Plots on World Cup Statistics\n"
   ]
  },
  {
   "cell_type": "code",
   "execution_count": 64,
   "metadata": {},
   "outputs": [],
   "source": [
    "## Plots where created in Tablau"
   ]
  },
  {
   "cell_type": "markdown",
   "metadata": {},
   "source": [
    "## Scaling Data"
   ]
  },
  {
   "cell_type": "code",
   "execution_count": 65,
   "metadata": {},
   "outputs": [
    {
     "data": {
      "text/plain": [
       "['world_cup_games',\n",
       " 'world_cup_wins',\n",
       " 'world_cup_ties',\n",
       " 'world_cup_losses',\n",
       " 'world_cup_win_pct',\n",
       " 'world_cup_tie_pct',\n",
       " 'world_cup_loss_pct']"
      ]
     },
     "execution_count": 65,
     "metadata": {},
     "output_type": "execute_result"
    }
   ],
   "source": [
    "world_cup_features = [col for col in df_teams_world_cup.columns if 'world_cup' in col]\n",
    "X2 = df_teams_world_cup.drop('team',axis=1)\n",
    "world_cup_features"
   ]
  },
  {
   "cell_type": "code",
   "execution_count": 137,
   "metadata": {
    "scrolled": true
   },
   "outputs": [
    {
     "name": "stderr",
     "output_type": "stream",
     "text": [
      "C:\\Users\\berku\\Anaconda3\\lib\\site-packages\\sklearn\\preprocessing\\data.py:625: DataConversionWarning: Data with input dtype int64, float64 were all converted to float64 by StandardScaler.\n",
      "  return self.partial_fit(X, y)\n",
      "C:\\Users\\berku\\Anaconda3\\lib\\site-packages\\sklearn\\base.py:462: DataConversionWarning: Data with input dtype int64, float64 were all converted to float64 by StandardScaler.\n",
      "  return self.fit(X, **fit_params).transform(X)\n"
     ]
    }
   ],
   "source": [
    "ss = StandardScaler()\n",
    "X = pd.DataFrame()\n",
    "X = df_teams_world_cup[world_cup_features].copy()\n",
    "Y = df_teams_world_cup['team']\n",
    "X_sc = pd.DataFrame(ss.fit_transform(X))\n",
    "X_sc.columns = X.columns"
   ]
  },
  {
   "cell_type": "markdown",
   "metadata": {},
   "source": [
    "## Model"
   ]
  },
  {
   "cell_type": "code",
   "execution_count": 138,
   "metadata": {},
   "outputs": [
    {
     "name": "stdout",
     "output_type": "stream",
     "text": [
      "2 0.46485328375583446\n",
      "2 317.97560155242024\n",
      "3 0.3396452901773265\n",
      "3 222.81097363646163\n",
      "4 0.36162848284662547\n",
      "4 162.80510742544473\n",
      "5 0.36858459486992473\n",
      "5 125.06902639310914\n",
      "6 0.3713258939928926\n",
      "6 101.57241866529219\n"
     ]
    }
   ],
   "source": [
    "from sklearn.cluster import KMeans\n",
    "for i in range(2,7):\n",
    "    kmeans = KMeans(n_clusters= i, random_state=42)\n",
    "    kmeans.fit(X_sc)\n",
    "    print(i,silhouette_score(X_sc, kmeans.labels_))\n",
    "    print(i,kmeans.inertia_)"
   ]
  },
  {
   "cell_type": "markdown",
   "metadata": {},
   "source": [
    "#### Chose number of clusters (K) = 4"
   ]
  },
  {
   "cell_type": "code",
   "execution_count": 139,
   "metadata": {},
   "outputs": [
    {
     "data": {
      "text/plain": [
       "KMeans(algorithm='auto', copy_x=True, init='k-means++', max_iter=300,\n",
       "    n_clusters=4, n_init=10, n_jobs=None, precompute_distances='auto',\n",
       "    random_state=42, tol=0.0001, verbose=0)"
      ]
     },
     "execution_count": 139,
     "metadata": {},
     "output_type": "execute_result"
    }
   ],
   "source": [
    "kmeans = KMeans(n_clusters= 4, random_state=42)\n",
    "kmeans.fit(X)"
   ]
  },
  {
   "cell_type": "code",
   "execution_count": 140,
   "metadata": {},
   "outputs": [
    {
     "data": {
      "text/plain": [
       "Index(['world_cup_games', 'world_cup_wins', 'world_cup_ties',\n",
       "       'world_cup_losses', 'world_cup_win_pct', 'world_cup_tie_pct',\n",
       "       'world_cup_loss_pct'],\n",
       "      dtype='object')"
      ]
     },
     "execution_count": 140,
     "metadata": {},
     "output_type": "execute_result"
    }
   ],
   "source": [
    "X.columns"
   ]
  },
  {
   "cell_type": "code",
   "execution_count": 141,
   "metadata": {
    "scrolled": true
   },
   "outputs": [],
   "source": [
    "X['team'] = Y\n",
    "X['cluster'] = kmeans.labels_"
   ]
  },
  {
   "cell_type": "markdown",
   "metadata": {},
   "source": [
    "\n",
    "#### Re-ordering clusters"
   ]
  },
  {
   "cell_type": "code",
   "execution_count": 148,
   "metadata": {
    "scrolled": true
   },
   "outputs": [],
   "source": [
    "X['cluster_num'] = X['cluster'].map({1:0,3:1,0:2,2:3})\n",
    "X['cluster_name'] = X['cluster_num'].map(lambda x: 'Cluster ' + str(x))"
   ]
  },
  {
   "cell_type": "code",
   "execution_count": 143,
   "metadata": {},
   "outputs": [
    {
     "data": {
      "text/html": [
       "<div>\n",
       "<style scoped>\n",
       "    .dataframe tbody tr th:only-of-type {\n",
       "        vertical-align: middle;\n",
       "    }\n",
       "\n",
       "    .dataframe tbody tr th {\n",
       "        vertical-align: top;\n",
       "    }\n",
       "\n",
       "    .dataframe thead th {\n",
       "        text-align: right;\n",
       "    }\n",
       "</style>\n",
       "<table border=\"1\" class=\"dataframe\">\n",
       "  <thead>\n",
       "    <tr style=\"text-align: right;\">\n",
       "      <th></th>\n",
       "      <th>len</th>\n",
       "    </tr>\n",
       "    <tr>\n",
       "      <th>cluster_num</th>\n",
       "      <th></th>\n",
       "    </tr>\n",
       "  </thead>\n",
       "  <tbody>\n",
       "    <tr>\n",
       "      <th>0</th>\n",
       "      <td>4.0</td>\n",
       "    </tr>\n",
       "    <tr>\n",
       "      <th>1</th>\n",
       "      <td>7.0</td>\n",
       "    </tr>\n",
       "    <tr>\n",
       "      <th>2</th>\n",
       "      <td>17.0</td>\n",
       "    </tr>\n",
       "    <tr>\n",
       "      <th>3</th>\n",
       "      <td>51.0</td>\n",
       "    </tr>\n",
       "  </tbody>\n",
       "</table>\n",
       "</div>"
      ],
      "text/plain": [
       "              len\n",
       "cluster_num      \n",
       "0             4.0\n",
       "1             7.0\n",
       "2            17.0\n",
       "3            51.0"
      ]
     },
     "metadata": {},
     "output_type": "display_data"
    },
    {
     "data": {
      "text/html": [
       "<div>\n",
       "<style scoped>\n",
       "    .dataframe tbody tr th:only-of-type {\n",
       "        vertical-align: middle;\n",
       "    }\n",
       "\n",
       "    .dataframe tbody tr th {\n",
       "        vertical-align: top;\n",
       "    }\n",
       "\n",
       "    .dataframe thead tr th {\n",
       "        text-align: left;\n",
       "    }\n",
       "\n",
       "    .dataframe thead tr:last-of-type th {\n",
       "        text-align: right;\n",
       "    }\n",
       "</style>\n",
       "<table border=\"1\" class=\"dataframe\">\n",
       "  <thead>\n",
       "    <tr>\n",
       "      <th></th>\n",
       "      <th>world_cup_win_pct</th>\n",
       "      <th>world_cup_games</th>\n",
       "    </tr>\n",
       "    <tr>\n",
       "      <th></th>\n",
       "      <th>median</th>\n",
       "      <th>median</th>\n",
       "    </tr>\n",
       "    <tr>\n",
       "      <th>cluster_num</th>\n",
       "      <th></th>\n",
       "      <th></th>\n",
       "    </tr>\n",
       "  </thead>\n",
       "  <tbody>\n",
       "    <tr>\n",
       "      <th>0</th>\n",
       "      <td>0.58</td>\n",
       "      <td>93.5</td>\n",
       "    </tr>\n",
       "    <tr>\n",
       "      <th>1</th>\n",
       "      <td>0.42</td>\n",
       "      <td>53.0</td>\n",
       "    </tr>\n",
       "    <tr>\n",
       "      <th>2</th>\n",
       "      <td>0.34</td>\n",
       "      <td>31.0</td>\n",
       "    </tr>\n",
       "    <tr>\n",
       "      <th>3</th>\n",
       "      <td>0.20</td>\n",
       "      <td>6.0</td>\n",
       "    </tr>\n",
       "  </tbody>\n",
       "</table>\n",
       "</div>"
      ],
      "text/plain": [
       "            world_cup_win_pct world_cup_games\n",
       "                       median          median\n",
       "cluster_num                                  \n",
       "0                        0.58            93.5\n",
       "1                        0.42            53.0\n",
       "2                        0.34            31.0\n",
       "3                        0.20             6.0"
      ]
     },
     "metadata": {},
     "output_type": "display_data"
    }
   ],
   "source": [
    "display(X.groupby([\"cluster_num\"])[\"world_cup_win_pct\"].agg([len]))\n",
    "\n",
    "display(X.groupby([\"cluster_num\"])[\"world_cup_win_pct\",'world_cup_games'].agg([np.median]).round(2))\n"
   ]
  },
  {
   "cell_type": "markdown",
   "metadata": {},
   "source": [
    "### Saving results in Csv File"
   ]
  },
  {
   "cell_type": "code",
   "execution_count": 144,
   "metadata": {},
   "outputs": [
    {
     "data": {
      "text/html": [
       "<div>\n",
       "<style scoped>\n",
       "    .dataframe tbody tr th:only-of-type {\n",
       "        vertical-align: middle;\n",
       "    }\n",
       "\n",
       "    .dataframe tbody tr th {\n",
       "        vertical-align: top;\n",
       "    }\n",
       "\n",
       "    .dataframe thead th {\n",
       "        text-align: right;\n",
       "    }\n",
       "</style>\n",
       "<table border=\"1\" class=\"dataframe\">\n",
       "  <thead>\n",
       "    <tr style=\"text-align: right;\">\n",
       "      <th></th>\n",
       "      <th>world_cup_games</th>\n",
       "      <th>world_cup_wins</th>\n",
       "      <th>world_cup_ties</th>\n",
       "      <th>world_cup_losses</th>\n",
       "      <th>world_cup_win_pct</th>\n",
       "      <th>world_cup_tie_pct</th>\n",
       "      <th>world_cup_loss_pct</th>\n",
       "      <th>team</th>\n",
       "      <th>cluster</th>\n",
       "      <th>cluster_num</th>\n",
       "      <th>cluster_name</th>\n",
       "    </tr>\n",
       "  </thead>\n",
       "  <tbody>\n",
       "    <tr>\n",
       "      <th>2</th>\n",
       "      <td>13</td>\n",
       "      <td>3</td>\n",
       "      <td>3</td>\n",
       "      <td>7</td>\n",
       "      <td>0.230769</td>\n",
       "      <td>0.230769</td>\n",
       "      <td>0.538462</td>\n",
       "      <td>Algeria</td>\n",
       "      <td>2</td>\n",
       "      <td>3</td>\n",
       "      <td>Cluster 3</td>\n",
       "    </tr>\n",
       "    <tr>\n",
       "      <th>5</th>\n",
       "      <td>3</td>\n",
       "      <td>0</td>\n",
       "      <td>2</td>\n",
       "      <td>1</td>\n",
       "      <td>0.000000</td>\n",
       "      <td>0.666667</td>\n",
       "      <td>0.333333</td>\n",
       "      <td>Angola</td>\n",
       "      <td>2</td>\n",
       "      <td>3</td>\n",
       "      <td>Cluster 3</td>\n",
       "    </tr>\n",
       "    <tr>\n",
       "      <th>8</th>\n",
       "      <td>77</td>\n",
       "      <td>42</td>\n",
       "      <td>14</td>\n",
       "      <td>21</td>\n",
       "      <td>0.545455</td>\n",
       "      <td>0.181818</td>\n",
       "      <td>0.272727</td>\n",
       "      <td>Argentina</td>\n",
       "      <td>1</td>\n",
       "      <td>0</td>\n",
       "      <td>Cluster 0</td>\n",
       "    </tr>\n",
       "    <tr>\n",
       "      <th>11</th>\n",
       "      <td>13</td>\n",
       "      <td>2</td>\n",
       "      <td>3</td>\n",
       "      <td>8</td>\n",
       "      <td>0.153846</td>\n",
       "      <td>0.230769</td>\n",
       "      <td>0.615385</td>\n",
       "      <td>Australia</td>\n",
       "      <td>2</td>\n",
       "      <td>3</td>\n",
       "      <td>Cluster 3</td>\n",
       "    </tr>\n",
       "    <tr>\n",
       "      <th>12</th>\n",
       "      <td>29</td>\n",
       "      <td>12</td>\n",
       "      <td>4</td>\n",
       "      <td>13</td>\n",
       "      <td>0.413793</td>\n",
       "      <td>0.137931</td>\n",
       "      <td>0.448276</td>\n",
       "      <td>Austria</td>\n",
       "      <td>0</td>\n",
       "      <td>2</td>\n",
       "      <td>Cluster 2</td>\n",
       "    </tr>\n",
       "  </tbody>\n",
       "</table>\n",
       "</div>"
      ],
      "text/plain": [
       "    world_cup_games  world_cup_wins  world_cup_ties  world_cup_losses  \\\n",
       "2                13               3               3                 7   \n",
       "5                 3               0               2                 1   \n",
       "8                77              42              14                21   \n",
       "11               13               2               3                 8   \n",
       "12               29              12               4                13   \n",
       "\n",
       "    world_cup_win_pct  world_cup_tie_pct  world_cup_loss_pct       team  \\\n",
       "2            0.230769           0.230769            0.538462    Algeria   \n",
       "5            0.000000           0.666667            0.333333     Angola   \n",
       "8            0.545455           0.181818            0.272727  Argentina   \n",
       "11           0.153846           0.230769            0.615385  Australia   \n",
       "12           0.413793           0.137931            0.448276    Austria   \n",
       "\n",
       "    cluster  cluster_num cluster_name  \n",
       "2         2            3    Cluster 3  \n",
       "5         2            3    Cluster 3  \n",
       "8         1            0    Cluster 0  \n",
       "11        2            3    Cluster 3  \n",
       "12        0            2    Cluster 2  "
      ]
     },
     "execution_count": 144,
     "metadata": {},
     "output_type": "execute_result"
    }
   ],
   "source": [
    "X.head()"
   ]
  },
  {
   "cell_type": "code",
   "execution_count": 146,
   "metadata": {},
   "outputs": [],
   "source": [
    "X.to_csv('./teams_clustered.csv',index=False)"
   ]
  },
  {
   "cell_type": "code",
   "execution_count": null,
   "metadata": {},
   "outputs": [],
   "source": []
  }
 ],
 "metadata": {
  "kernelspec": {
   "display_name": "Python 3",
   "language": "python",
   "name": "python3"
  },
  "language_info": {
   "codemirror_mode": {
    "name": "ipython",
    "version": 3
   },
   "file_extension": ".py",
   "mimetype": "text/x-python",
   "name": "python",
   "nbconvert_exporter": "python",
   "pygments_lexer": "ipython3",
   "version": "3.7.1"
  }
 },
 "nbformat": 4,
 "nbformat_minor": 2
}
